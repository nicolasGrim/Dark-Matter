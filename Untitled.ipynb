{
 "cells": [
  {
   "cell_type": "code",
   "execution_count": 2,
   "metadata": {},
   "outputs": [],
   "source": [
    "import matplotlib.pyplot as plt\n",
    "import numpy as np"
   ]
  },
  {
   "cell_type": "code",
   "execution_count": 5,
   "metadata": {},
   "outputs": [],
   "source": [
    "mx = np.logspace(1,2,20)\n",
    "cap = [2.34199499e+07, 2.38392521e+07, 2.41709050e+07, 2.44034137e+07,\n",
    " 2.45273981e+07, 2.45359642e+07 ,2.44249599e+07 ,2.41931000e+07,\n",
    " 2.38419560e+07 ,2.33758192e+07, 2.28014566e+07 ,2.21277800e+07,\n",
    " 2.13654590e+07, 2.05264996e+07, 1.96238140e+07, 6.15848211e+01,\n",
    " 6.95192796e+01, 7.84759970e+01 ,8.85866790e+01, 1.00000000e+02]"
   ]
  },
  {
   "cell_type": "code",
   "execution_count": 10,
   "metadata": {},
   "outputs": [
    {
     "data": {
      "text/plain": [
       "(20000000, 30000000)"
      ]
     },
     "execution_count": 10,
     "metadata": {},
     "output_type": "execute_result"
    },
    {
     "data": {
      "image/png": "[encoded data removed]",
      "text/plain": [
       "<Figure size 432x288 with 1 Axes>"
      ]
     },
     "metadata": {
      "needs_background": "light"
     },
     "output_type": "display_data"
    }
   ],
   "source": [
    "plt.scatter(mx,cap)\n",
    "plt.yscale('log')\n",
    "plt.xscale('log')\n",
    "plt.ylim(2*10**7, 3*10**7)"
   ]
  },
  {
   "cell_type": "code",
   "execution_count": null,
   "metadata": {},
   "outputs": [],
   "source": []
  }
 ],
 "metadata": {
  "kernelspec": {
   "display_name": "Python 3",
   "language": "python",
   "name": "python3"
  },
  "language_info": {
   "codemirror_mode": {
    "name": "ipython",
    "version": 3
   },
   "file_extension": ".py",
   "mimetype": "text/x-python",
   "name": "python",
   "nbconvert_exporter": "python",
   "pygments_lexer": "ipython3",
   "version": "3.7.6"
  }
 },
 "nbformat": 4,
 "nbformat_minor": 4
}
